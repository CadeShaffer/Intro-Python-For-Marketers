{
 "cells": [
  {
   "cell_type": "markdown",
   "metadata": {},
   "source": [
    "# Exploring Google Search Console Data in Python\n",
    "This time around we're going to explore marketing data gathered from Google Search Console.\n",
    "\n",
    "Below is a data set created to be similar to a <a href=\"https://www.google.com/webmasters/tools/home?hl=en\">Google Search Console</a> export. As always we're going open it, do our due diligence by exploring the data, tidy anything which needs so from there we'll start to chart out the data."
   ]
  },
  {
   "cell_type": "markdown",
   "metadata": {},
   "source": [
    "## Loading Library's\n",
    "\n",
    "Don't forget you'll always need to load you libraries when working with pandas. If you'd don't do this you can't use the functionlaity. "
   ]
  },
  {
   "cell_type": "code",
   "execution_count": 1,
   "metadata": {},
   "outputs": [],
   "source": [
    "#First, import pandas. You'll always need to do this. Also set the max rows and columns to None\n"
   ]
  },
  {
   "cell_type": "markdown",
   "metadata": {},
   "source": [
    "### matplotlib and seaborn for drawing graphs\n",
    "In the last workbook we learned about <a href=\"https://matplotlib.org/\">`matplotlib`</a> and it's cousin <a href=\"https://seaborn.pydata.org/\">Seaborn</a>. We'll be using these again."
   ]
  },
  {
   "cell_type": "code",
   "execution_count": 1,
   "metadata": {},
   "outputs": [],
   "source": [
    "#Load matplotlib and seaborn"
   ]
  },
  {
   "cell_type": "code",
   "execution_count": 2,
   "metadata": {},
   "outputs": [],
   "source": [
    "#Load your data"
   ]
  },
  {
   "cell_type": "markdown",
   "metadata": {},
   "source": [
    "______________________________________________________________________________________________________________________"
   ]
  },
  {
   "cell_type": "markdown",
   "metadata": {},
   "source": [
    "# Exploring the data"
   ]
  },
  {
   "cell_type": "markdown",
   "metadata": {},
   "source": [
    "As alwasys need to perform our minimum exploritory data analysis to understand what the data is made up of and what columsn contain numerical and non-numerical data."
   ]
  },
  {
   "cell_type": "code",
   "execution_count": 3,
   "metadata": {},
   "outputs": [],
   "source": [
    "# Top level breakdown of what type of data types there are and how many values are of each"
   ]
  },
  {
   "cell_type": "code",
   "execution_count": 4,
   "metadata": {},
   "outputs": [],
   "source": [
    "#Another top level breakdown but this time of the numerical data and it's stats"
   ]
  },
  {
   "cell_type": "code",
   "execution_count": 6,
   "metadata": {},
   "outputs": [
    {
     "data": {
      "text/html": [
       "<div>\n",
       "<style scoped>\n",
       "    .dataframe tbody tr th:only-of-type {\n",
       "        vertical-align: middle;\n",
       "    }\n",
       "\n",
       "    .dataframe tbody tr th {\n",
       "        vertical-align: top;\n",
       "    }\n",
       "\n",
       "    .dataframe thead th {\n",
       "        text-align: right;\n",
       "    }\n",
       "</style>\n",
       "<table border=\"1\" class=\"dataframe\">\n",
       "  <thead>\n",
       "    <tr style=\"text-align: right;\">\n",
       "      <th></th>\n",
       "      <th>Unnamed: 0</th>\n",
       "      <th>Queries</th>\n",
       "      <th>Clicks</th>\n",
       "      <th>Impressions</th>\n",
       "      <th>CTR</th>\n",
       "      <th>Position</th>\n",
       "    </tr>\n",
       "  </thead>\n",
       "  <tbody>\n",
       "    <tr>\n",
       "      <th>0</th>\n",
       "      <td>0</td>\n",
       "      <td>wedding dresses</td>\n",
       "      <td>2010</td>\n",
       "      <td>118845</td>\n",
       "      <td>1.69%</td>\n",
       "      <td>35.0</td>\n",
       "    </tr>\n",
       "    <tr>\n",
       "      <th>1</th>\n",
       "      <td>2</td>\n",
       "      <td>chunky silver necklace</td>\n",
       "      <td>720</td>\n",
       "      <td>70395</td>\n",
       "      <td>1.02%</td>\n",
       "      <td>4.1</td>\n",
       "    </tr>\n",
       "    <tr>\n",
       "      <th>2</th>\n",
       "      <td>3</td>\n",
       "      <td>girlfriend experience london</td>\n",
       "      <td>540</td>\n",
       "      <td>1800</td>\n",
       "      <td>30%</td>\n",
       "      <td>7.1</td>\n",
       "    </tr>\n",
       "    <tr>\n",
       "      <th>3</th>\n",
       "      <td>5</td>\n",
       "      <td>bridal dresses</td>\n",
       "      <td>225</td>\n",
       "      <td>20925</td>\n",
       "      <td>1.08%</td>\n",
       "      <td>34.0</td>\n",
       "    </tr>\n",
       "    <tr>\n",
       "      <th>4</th>\n",
       "      <td>6</td>\n",
       "      <td>designer wedding dresses</td>\n",
       "      <td>210</td>\n",
       "      <td>19875</td>\n",
       "      <td>1.06%</td>\n",
       "      <td>52.0</td>\n",
       "    </tr>\n",
       "  </tbody>\n",
       "</table>\n",
       "</div>"
      ],
      "text/plain": [
       "   Unnamed: 0                       Queries  Clicks  Impressions    CTR  \\\n",
       "0           0               wedding dresses    2010       118845  1.69%   \n",
       "1           2        chunky silver necklace     720        70395  1.02%   \n",
       "2           3  girlfriend experience london     540         1800    30%   \n",
       "3           5                bridal dresses     225        20925  1.08%   \n",
       "4           6      designer wedding dresses     210        19875  1.06%   \n",
       "\n",
       "   Position  \n",
       "0      35.0  \n",
       "1       4.1  \n",
       "2       7.1  \n",
       "3      34.0  \n",
       "4      52.0  "
      ]
     },
     "execution_count": 6,
     "metadata": {},
     "output_type": "execute_result"
    }
   ],
   "source": [
    "searchdata.head()"
   ]
  },
  {
   "cell_type": "markdown",
   "metadata": {},
   "source": [
    "## Dropping uncessary Series (columns)\n",
    "There's a column in the timeseries that we need to get rid of. Why? Because it's not of any value and is a distraction."
   ]
  },
  {
   "cell_type": "markdown",
   "metadata": {},
   "source": [
    "Using the <a href=\"https://pandas.pydata.org/pandas-docs/stable/missing_data.html#dropping-axis-labels-with-missing-data-dropna\">`.drop`</a> function you can easily drop as many columns as you like in one click.\n",
    "\n",
    "All you need to do copy and paste (or type 😀) the Series names that you don't want from the list we produce using the `.columns` method. Set the `axis=` to '1', ensure that you've set `inplace=` to True and run the cell. `inplace=` overwrites the current view of the dataset so that the next time you call the data all the fields you dropped will no longer show."
   ]
  },
  {
   "cell_type": "code",
   "execution_count": 5,
   "metadata": {},
   "outputs": [],
   "source": [
    "#Drop uncessary series"
   ]
  },
  {
   "cell_type": "code",
   "execution_count": 6,
   "metadata": {},
   "outputs": [],
   "source": [
    "#Check it worked"
   ]
  },
  {
   "cell_type": "markdown",
   "metadata": {},
   "source": [
    "______________________________________________________________________________________________________________________"
   ]
  },
  {
   "cell_type": "markdown",
   "metadata": {},
   "source": [
    "## Dealing unwanted characters\n",
    "You might have notice when looking at `.info` that the CTR field is in fact an object as opposed to being numeric (it should be a float due to it's decimal points). It's classed as an Object because of % which Google Search Console produces when you export the data. The addtion of the % symbol means that the column is neither a float or integer.   \n",
    "\n",
    "There are a few ways to deal with this problem. Either use `.replace` and replace the nussance character with nothing or calculate the CTR from Impressions and Clicks and store the output in the CTR field. We're going to use the latter, as it's simpler in this case but in other cases you may need to revert to the `.replace` function."
   ]
  },
  {
   "cell_type": "code",
   "execution_count": 7,
   "metadata": {},
   "outputs": [],
   "source": [
    "#calculate the Click Through Rate using Pandas and round to 2 decimal places"
   ]
  },
  {
   "cell_type": "code",
   "execution_count": 8,
   "metadata": {},
   "outputs": [],
   "source": [
    "#Check it worked"
   ]
  },
  {
   "cell_type": "markdown",
   "metadata": {},
   "source": [
    "______________________________________________________________________________________________________________________"
   ]
  },
  {
   "cell_type": "code",
   "execution_count": 9,
   "metadata": {},
   "outputs": [],
   "source": [
    "#We now want to set an index for the data. As keywords are fix we'll use the Queries field."
   ]
  },
  {
   "cell_type": "code",
   "execution_count": 10,
   "metadata": {},
   "outputs": [],
   "source": [
    "#Now we sort the data by most clicks"
   ]
  },
  {
   "cell_type": "markdown",
   "metadata": {},
   "source": [
    "______________________________________________________________________________________________________________________"
   ]
  },
  {
   "cell_type": "markdown",
   "metadata": {},
   "source": [
    "## Lets draw some charts"
   ]
  },
  {
   "cell_type": "markdown",
   "metadata": {},
   "source": [
    "Lets see if we can spot any patterns in a link chart."
   ]
  },
  {
   "cell_type": "code",
   "execution_count": 11,
   "metadata": {},
   "outputs": [],
   "source": [
    "#Draw a pandas scatter plot with impressions and position"
   ]
  },
  {
   "cell_type": "code",
   "execution_count": 12,
   "metadata": {},
   "outputs": [],
   "source": [
    "#Draw a pandas scatter plot with clicks and position"
   ]
  },
  {
   "cell_type": "code",
   "execution_count": 13,
   "metadata": {},
   "outputs": [],
   "source": [
    "#Draw a seaborn pairplot of the data"
   ]
  },
  {
   "cell_type": "markdown",
   "metadata": {},
   "source": [
    "## Lets label the data\n",
    "The pairplot above is a quick and simple way to visualise multiple variables however, it's just one colour and we can't really see any grouping from it.\n",
    "\n",
    "In order to see clustering we'll need a way to group clicks by a defined criteria. Below I've created a reusable function that will label clicks based on whether: \n",
    "\n",
    "<ul>\n",
    "<li>Low, below 20 clicks</li>\n",
    "<li>Medium, below 100 clicks</li>\n",
    "<li>High, 101 clicks or above</li>\n",
    "</ul>"
   ]
  },
  {
   "cell_type": "code",
   "execution_count": 14,
   "metadata": {},
   "outputs": [],
   "source": [
    "def tierclicks(x):\n",
    "    if x <= 20:\n",
    "        tier = \"Low\"\n",
    "    elif x <= 100:\n",
    "        tier =  \"Medium\"\n",
    "    elif x >= 101 :\n",
    "        tier = \"High\"\n",
    "    return tier"
   ]
  },
  {
   "cell_type": "code",
   "execution_count": 17,
   "metadata": {},
   "outputs": [],
   "source": [
    "#apply the function above to the clicks column, create a new colum for the data label"
   ]
  },
  {
   "cell_type": "code",
   "execution_count": 16,
   "metadata": {},
   "outputs": [],
   "source": [
    "#check it worked"
   ]
  },
  {
   "cell_type": "markdown",
   "metadata": {},
   "source": [
    "## Running the Pairplot again\n",
    "We then plot the pairplot again but setting the colour change variable as the tier column (Low, Medium, High). Then we pick a Seaborn colour pallete that will apply colour to each label. I picked the one below because I like the colours 😀"
   ]
  },
  {
   "cell_type": "code",
   "execution_count": 18,
   "metadata": {
    "scrolled": false
   },
   "outputs": [],
   "source": [
    "#Create a seaborn pairplot that labels the click data with the tier label create above"
   ]
  },
  {
   "cell_type": "markdown",
   "metadata": {},
   "source": [
    "_____________________________________________________________________________________________________________________"
   ]
  },
  {
   "cell_type": "markdown",
   "metadata": {},
   "source": [
    "## The Trusty Correlation\n",
    "For good measure ( and practice) we're going to create and draw a correlation matrix using the search console data."
   ]
  },
  {
   "cell_type": "code",
   "execution_count": 19,
   "metadata": {},
   "outputs": [],
   "source": [
    "# use the pandas .corr() function to create a correaltion matrix"
   ]
  },
  {
   "cell_type": "code",
   "execution_count": 20,
   "metadata": {},
   "outputs": [],
   "source": [
    "#check it worked"
   ]
  },
  {
   "cell_type": "code",
   "execution_count": 22,
   "metadata": {},
   "outputs": [],
   "source": [
    "#Use Seaborn to draw the heatmap as in the facebook example. This time though, we're switching up the colours! cmap = sns.dark_palette(\"purple\", as_cmap=True)"
   ]
  },
  {
   "cell_type": "markdown",
   "metadata": {},
   "source": [
    "## Important Links\n",
    "\n",
    "Twitter:            https://www.twitter.com/nickduddy<br>\n",
    "Instragram:     https://www.instagram.com/thedataboi<br>\n",
    "Facebook:       https://www.facebook.com/thenickduddy<br>\n",
    "Github:           https://www.github.com/thedataboi<br>\n",
    "Web:                http://databoi.com<br>"
   ]
  }
 ],
 "metadata": {
  "kernelspec": {
   "display_name": "Python 3",
   "language": "python",
   "name": "python3"
  },
  "language_info": {
   "codemirror_mode": {
    "name": "ipython",
    "version": 3
   },
   "file_extension": ".py",
   "mimetype": "text/x-python",
   "name": "python",
   "nbconvert_exporter": "python",
   "pygments_lexer": "ipython3",
   "version": "3.6.4"
  }
 },
 "nbformat": 4,
 "nbformat_minor": 2
}
